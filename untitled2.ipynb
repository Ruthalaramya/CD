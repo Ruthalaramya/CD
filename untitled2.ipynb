{
  "nbformat": 4,
  "nbformat_minor": 0,
  "metadata": {
    "colab": {
      "provenance": [],
      "authorship_tag": "ABX9TyOjWGRQKXcUjtRNhtNvoq8w",
      "include_colab_link": true
    },
    "kernelspec": {
      "name": "python3",
      "display_name": "Python 3"
    },
    "language_info": {
      "name": "python"
    }
  },
  "cells": [
    {
      "cell_type": "markdown",
      "metadata": {
        "id": "view-in-github",
        "colab_type": "text"
      },
      "source": [
        "<a href=\"https://colab.research.google.com/github/Ruthalaramya/CD/blob/main/untitled2.ipynb\" target=\"_parent\"><img src=\"https://colab.research.google.com/assets/colab-badge.svg\" alt=\"Open In Colab\"/></a>"
      ]
    },
    {
      "cell_type": "code",
      "execution_count": null,
      "metadata": {
        "colab": {
          "base_uri": "https://localhost:8080/",
          "height": 235
        },
        "id": "SMnRCFBKVZg7",
        "outputId": "536cf4c7-dc9f-4303-884b-255647c2afa0"
      },
      "outputs": [
        {
          "output_type": "error",
          "ename": "NameError",
          "evalue": "ignored",
          "traceback": [
            "\u001b[0;31m---------------------------------------------------------------------------\u001b[0m",
            "\u001b[0;31mNameError\u001b[0m                                 Traceback (most recent call last)",
            "\u001b[0;32m<ipython-input-2-18d321cee0f5>\u001b[0m in \u001b[0;36m<module>\u001b[0;34m\u001b[0m\n\u001b[1;32m     89\u001b[0m \u001b[0;34m\u001b[0m\u001b[0m\n\u001b[1;32m     90\u001b[0m \u001b[0;34m\u001b[0m\u001b[0m\n\u001b[0;32m---> 91\u001b[0;31m \u001b[0mstart\u001b[0m\u001b[0;34m,\u001b[0m\u001b[0mcur\u001b[0m\u001b[0;34m,\u001b[0m\u001b[0mend\u001b[0m\u001b[0;34m,\u001b[0m\u001b[0mtable\u001b[0m \u001b[0;34m=\u001b[0m \u001b[0mmod_table\u001b[0m\u001b[0;34m(\u001b[0m\u001b[0minp\u001b[0m\u001b[0;34m,\u001b[0m\u001b[0mstart\u001b[0m\u001b[0;34m,\u001b[0m\u001b[0mcur\u001b[0m\u001b[0;34m,\u001b[0m\u001b[0mend\u001b[0m\u001b[0;34m,\u001b[0m\u001b[0mtable\u001b[0m\u001b[0;34m)\u001b[0m\u001b[0;34m\u001b[0m\u001b[0;34m\u001b[0m\u001b[0m\n\u001b[0m\u001b[1;32m     92\u001b[0m \u001b[0;34m\u001b[0m\u001b[0m\n\u001b[1;32m     93\u001b[0m \u001b[0mprint_t\u001b[0m\u001b[0;34m(\u001b[0m\u001b[0mtable\u001b[0m\u001b[0;34m)\u001b[0m\u001b[0;34m\u001b[0m\u001b[0;34m\u001b[0m\u001b[0m\n",
            "\u001b[0;31mNameError\u001b[0m: name 'inp' is not defined"
          ]
        }
      ],
      "source": [
        "def mod_table(inp,start,cur,end,table):\n",
        "    #print(inp)\n",
        "    k = 0\n",
        "    while k<len(inp):\n",
        "        #print(start,cur,end,k,inp[k:],len(table)-1)\n",
        "        if inp[k]==\"a\":\n",
        "            end = a_(cur,end)\n",
        "            #print(\"in a_\")\n",
        "        elif inp[k]==\"b\":\n",
        "            end = b_(cur,end)\n",
        "            #print(\"in b_\")\n",
        "        elif inp[k]==\"e\":\n",
        "            end = e_(cur,end)\n",
        "        elif inp[k]==\".\":\n",
        "            k+=1\n",
        "            if inp[k]==\"a\":\n",
        "                #k-=1\n",
        "                cur,end = and_a(cur,end)\n",
        "            elif inp[k]==\"b\":\n",
        "                cur,end = and_b(cur,end)\n",
        "                #k-=1\n",
        "            elif inp[k]==\"(\":\n",
        "                li = [\"(\"]\n",
        "                l = k\n",
        "                for i in inp[k+1:]:\n",
        "                    if i == \"(\":\n",
        "                        li.append(\"(\")\n",
        "                    if i == \")\":\n",
        "                        try:\n",
        "                            del li[-1]\n",
        "                        except:\n",
        "                            break\n",
        "                    if len(li)==0:\n",
        "                        break\n",
        "                    l+=1\n",
        "                m = k\n",
        "                k=l+1\n",
        "                cur+=1\n",
        "                start,cur,end,table = mod_table(inp[m+1:l+1],start,cur,end,table)\n",
        "\n",
        "        elif inp[k]==\"+\":\n",
        "            k+=1\n",
        "            if inp[k]==\"a\":\n",
        "                or_a(cur,end)\n",
        "                #print(\"in or_a\")\n",
        "            elif inp[k]==\"b\":\n",
        "                or_b(cur,end)\n",
        "                #print(\"in or_b\")\n",
        "            else:\n",
        "                print(f\"ERROR at{k }Done:{inp[:k+1]}Rem{inp[k+1:]}\")\n",
        "        \n",
        "        elif inp[k]==\"*\":\n",
        "            #print(\"in star\")\n",
        "            cur,end = star(cur,end)\n",
        "        elif inp[k]==\"(\":\n",
        "            li = [\"(\"]\n",
        "            l = k\n",
        "            for i in inp[k+1:]:\n",
        "                if i == \"(\":\n",
        "                    li.append(\"(\")\n",
        "                if i == \")\":\n",
        "                    try:\n",
        "                        del li[-1]\n",
        "                    except:\n",
        "                        break\n",
        "                if len(li)==0:\n",
        "                    break\n",
        "\n",
        "                l+=1\n",
        "            m = k\n",
        "            k=l+1\n",
        "            try:\n",
        "                if inp[k+1]==\"*\":\n",
        "                    cur_ = cur\n",
        "            except:\n",
        "                pass\n",
        "            #print(inp[m+1:l+1])\n",
        "            start,cur,end,table = mod_table(inp[m+1:l+1],start,cur,end,table)\n",
        "            try:\n",
        "                if inp[k+1]==\"*\":\n",
        "                    cur = cur_\n",
        "            except:\n",
        "                pass\n",
        "        else:\n",
        "            print(f'error{k}{inp[k]}')\n",
        "        k+=1\n",
        "    return start,cur,end,table\n",
        "\n",
        "\n",
        "\n",
        "start,cur,end,table = mod_table(inp,start,cur,end,table)\n",
        "\n",
        "print_t(table)"
      ]
    }
  ]
}